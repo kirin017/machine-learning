{
 "cells": [
  {
   "cell_type": "markdown",
   "id": "011a5f28",
   "metadata": {},
   "source": [
    "# Nhân ma trận với vecto dùng toán tử @ (A * B = A @ B)\n"
   ]
  },
  {
   "cell_type": "code",
   "execution_count": 10,
   "id": "13487172",
   "metadata": {},
   "outputs": [
    {
     "name": "stdout",
     "output_type": "stream",
     "text": [
      "A * B = [ 3  9 13]\n"
     ]
    }
   ],
   "source": [
    "import numpy as np\n",
    "A = np.array([[1, 2], [4, 5], [6, 7]])\n",
    "B = np.array([1, 1])\n",
    "print(f'A * B = {A @ B}')"
   ]
  },
  {
   "cell_type": "markdown",
   "id": "3b0e3707",
   "metadata": {},
   "source": [
    "Để nhân 2 ma trận A * B thì số cột của ma trận 1 phải bằng số hàng của ma trận 2 (nA = mB)\n",
    "Chúng ta nhân 2 ma trận bằng cách tách 1 ma trận ra rồi các vecto rồi nhân sau đó ghép lại"
   ]
  },
  {
   "cell_type": "code",
   "execution_count": 14,
   "id": "abded9f4",
   "metadata": {},
   "outputs": [
    {
     "name": "stdout",
     "output_type": "stream",
     "text": [
      "A * B = [[ 27  37]\n",
      " [ 60  85]\n",
      " [ 75 100]]\n"
     ]
    }
   ],
   "source": [
    "\n",
    "A = np.array([[1, 2, 3], [4, 5, 6], [1, 5, 9]])\n",
    "B = np.array([[1, 3], [4, 5], [6, 8]])\n",
    "print(f'A * B = {A@B}')"
   ]
  },
  {
   "cell_type": "markdown",
   "id": "afcc71d7",
   "metadata": {},
   "source": [
    "                                Identity matrix (ma trận đơn vị)"
   ]
  },
  {
   "cell_type": "markdown",
   "id": "858dffd3",
   "metadata": {},
   "source": [
    "Identity matrix là ma trận mà khi nhân với bất kì ma trận khác cùng kích thước, ma trận đó sẽ không đổi. Phép nhân với identity matrix có tính chất giao hoán. Chúng ta có thể xem identity matrix là “số 1” của ma trận.\n",
    "\n",
    "Cấu trúc của identity matrix là 1 ma trận có số 1 trên đường chéo."
   ]
  },
  {
   "cell_type": "code",
   "execution_count": 17,
   "id": "5038d691",
   "metadata": {},
   "outputs": [
    {
     "name": "stdout",
     "output_type": "stream",
     "text": [
      "[[1. 0. 0.]\n",
      " [0. 1. 0.]\n",
      " [0. 0. 1.]]\n"
     ]
    }
   ],
   "source": [
    "a = np.eye(3)\n",
    "print(a)"
   ]
  },
  {
   "cell_type": "markdown",
   "id": "532c25db",
   "metadata": {},
   "source": [
    "Phép nhân “element-wise” với ma trận\n",
    "Đối với phép nhân element-wise, kết quả sẽ là một ma trận với những phần tử là tích của các phần tử là tích của 2 phần tử tương ứng trong 2 ma trận."
   ]
  },
  {
   "cell_type": "code",
   "execution_count": 19,
   "id": "5146a7cd",
   "metadata": {},
   "outputs": [
    {
     "name": "stdout",
     "output_type": "stream",
     "text": [
      "a .* b: [[  2   6  15]\n",
      " [ 28  45 126]]\n"
     ]
    }
   ],
   "source": [
    "_a = [ [ 1, 2, 3 ], [ 4, 5, 6 ] ]\n",
    "_b = [ [ 2, 3, 5], [7, 9, 21] ]\n",
    "a = np.array(_a) #create 2 * 3 matrix: a\n",
    "b = np.array(_b) #create 2 * 3 matrix: b\n",
    "print('a .* b:', a * b) #print out a .* b"
   ]
  },
  {
   "cell_type": "markdown",
   "id": "350872b2",
   "metadata": {},
   "source": [
    "Toán tử logic với ma trận"
   ]
  },
  {
   "cell_type": "code",
   "execution_count": 20,
   "id": "61f06769",
   "metadata": {},
   "outputs": [
    {
     "name": "stdout",
     "output_type": "stream",
     "text": [
      "[[ True False False False False]\n",
      " [False  True False False False]\n",
      " [False False  True False False]\n",
      " [False False False  True False]\n",
      " [False False False False  True]]\n"
     ]
    }
   ],
   "source": [
    "import numpy as np\n",
    "a = np.eye(5)\n",
    "print(a == 1)"
   ]
  },
  {
   "cell_type": "markdown",
   "id": "f2fa8abc",
   "metadata": {},
   "source": [
    "# Inverse matrix (ma trận khả nghịch)"
   ]
  },
  {
   "cell_type": "markdown",
   "id": "2e67ce26",
   "metadata": {},
   "source": [
    "Inverse matrix được kí hiệu bằng: A-1\n",
    "\n",
    "Tích của ma trận với ma trận đảo của nó sẽ là một Identity matrix.\n",
    "\n",
    "Tương tự như trong số tự nhiên: 2 * 2-1 = 1\n",
    "\n",
    "Với NumPy function dùng để invert matrix là:\n",
    "\n",
    "   np.linalg.pinv(matrix)"
   ]
  },
  {
   "cell_type": "code",
   "execution_count": 22,
   "id": "bb1e00f4",
   "metadata": {},
   "outputs": [
    {
     "name": "stdout",
     "output_type": "stream",
     "text": [
      "A * B[[ 1.00000000e+00  3.05311332e-16]\n",
      " [-4.44089210e-16  1.00000000e+00]]\n"
     ]
    }
   ],
   "source": [
    "A = np.array([[1, 2, 3], [4, 5, 6]])\n",
    "B = np.linalg.pinv(A)\n",
    "print(f'A * B{A @ B}')"
   ]
  },
  {
   "cell_type": "markdown",
   "id": "e759e425",
   "metadata": {},
   "source": [
    "Transpose matrix được kí hiệu là: $A^T$\n",
    "\n",
    "Transpose matrix là ma trận đảo hàng và cột so với ma trận gốc.\n",
    "\n",
    "Với NumPy ta sử dụng function np.transpose() để transpose matrix."
   ]
  },
  {
   "cell_type": "code",
   "execution_count": 24,
   "id": "e5b27d31",
   "metadata": {},
   "outputs": [
    {
     "name": "stdout",
     "output_type": "stream",
     "text": [
      "[[1 4 7]\n",
      " [2 5 8]\n",
      " [3 6 9]]\n"
     ]
    }
   ],
   "source": [
    "A = np.array([[1, 2, 3], [4, 5, 6], [7, 8, 9]])\n",
    "B = np.transpose(A)\n",
    "print (B)"
   ]
  },
  {
   "cell_type": "markdown",
   "id": "31951eb4",
   "metadata": {},
   "source": [
    "# Hàm size với ma trận"
   ]
  },
  {
   "cell_type": "markdown",
   "id": "75a3a3e5",
   "metadata": {},
   "source": [
    "Chúng ta có thể sử dụng hàm size để lấy kích thước của ma trận:\n",
    "\n",
    "np.size(matrix, axis)\n",
    "\n",
    "Trong đó:\n",
    "\n",
    "matrix: ma trận cần tìm kích thước\n",
    "\n",
    "axis: chiều, nếu là 0 sẽ trả về số hàng, 1 trả về số cột, mặc định trả về số phần tử."
   ]
  },
  {
   "cell_type": "code",
   "execution_count": 28,
   "id": "ecd38fd3",
   "metadata": {},
   "outputs": [
    {
     "name": "stdout",
     "output_type": "stream",
     "text": [
      "3\n"
     ]
    }
   ],
   "source": [
    "A = np.array([[1, 2, 3], [4, 5, 6], [7, 8, 9]])\n",
    "B = np.size(A,0)\n",
    "print(B)"
   ]
  },
  {
   "cell_type": "markdown",
   "id": "18759a3c",
   "metadata": {},
   "source": [
    "# Hàm sum và max/min với ma trận"
   ]
  },
  {
   "cell_type": "markdown",
   "id": "c00ef2be",
   "metadata": {},
   "source": [
    "Chúng ta có thể sử dụng hàm sum để lấy tổng các phần tử, max để lấy phần tử lớn nhất, min để lấy phần tử nhỏ nhất.\n",
    "\n",
    "Cấu trúc:\n",
    "\n",
    "np.sum(matrix,axis)\n",
    "\n",
    "np.max(matrix,axis)\n",
    "\n",
    "np.min(matrix,axis)\n",
    "\n",
    "Trong đó\n",
    "\n",
    "matrix: ma trận cần tìm kích thước\n",
    "\n",
    "axis: chiều, nếu là 0 sẽ tính theo cột, 1 sẽ tính theo hàng, mặc định sẽ tính trên cả ma trận."
   ]
  },
  {
   "cell_type": "code",
   "execution_count": 30,
   "id": "d31a1f54",
   "metadata": {},
   "outputs": [
    {
     "name": "stdout",
     "output_type": "stream",
     "text": [
      "[12 15 18]\n"
     ]
    }
   ],
   "source": [
    "A = np.array([[1, 2, 3], [4, 5, 6], [7, 8, 9]])\n",
    "B = np.sum(A, 0)\n",
    "print(B)"
   ]
  },
  {
   "cell_type": "code",
   "execution_count": null,
   "id": "a5fe77cb",
   "metadata": {},
   "outputs": [],
   "source": []
  }
 ],
 "metadata": {
  "kernelspec": {
   "display_name": "Python 3 (ipykernel)",
   "language": "python",
   "name": "python3"
  },
  "language_info": {
   "codemirror_mode": {
    "name": "ipython",
    "version": 3
   },
   "file_extension": ".py",
   "mimetype": "text/x-python",
   "name": "python",
   "nbconvert_exporter": "python",
   "pygments_lexer": "ipython3",
   "version": "3.9.13"
  }
 },
 "nbformat": 4,
 "nbformat_minor": 5
}
